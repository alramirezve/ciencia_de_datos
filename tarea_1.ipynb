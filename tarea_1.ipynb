{
  "nbformat": 4,
  "nbformat_minor": 0,
  "metadata": {
    "colab": {
      "name": "tarea 1.ipynb",
      "provenance": [],
      "collapsed_sections": [],
      "include_colab_link": true
    },
    "kernelspec": {
      "name": "python3",
      "display_name": "Python 3"
    }
  },
  "cells": [
    {
      "cell_type": "markdown",
      "metadata": {
        "id": "view-in-github",
        "colab_type": "text"
      },
      "source": [
        "<a href=\"https://colab.research.google.com/github/alramirezve/ciencia_de_datos/blob/master/tarea_1.ipynb\" target=\"_parent\"><img src=\"https://colab.research.google.com/assets/colab-badge.svg\" alt=\"Open In Colab\"/></a>"
      ]
    },
    {
      "cell_type": "code",
      "metadata": {
        "id": "apdLpWI_okgR",
        "colab_type": "code",
        "outputId": "dee47248-1a1b-4acc-acb8-73d8d55725b9",
        "colab": {
          "base_uri": "https://localhost:8080/",
          "height": 221
        }
      },
      "source": [
        "cat data.csv"
      ],
      "execution_count": 1,
      "outputs": [
        {
          "output_type": "stream",
          "text": [
            "12/03/13;A;1;100,0\n",
            "05/12/13;a;1;100,0\n",
            "25/02/13;B;2;200,0\n",
            "04/04/13;N;1;\\N\n",
            "21/06/13;\\N;;\n",
            "13/06/14;A;;n\n",
            "12/05/14;C;\\N;\n",
            "05/09/14;\\n;3;150,1\n",
            "12/05/14;a;2;\\N\n",
            "28/02/13;c;\\N;\\N\n",
            "02/08/14;A;2;100,0\n",
            "1/9/2014;A;3;100,4\n"
          ],
          "name": "stdout"
        }
      ]
    },
    {
      "cell_type": "code",
      "metadata": {
        "id": "vpk_ura9rLFx",
        "colab_type": "code",
        "outputId": "baa7b2ac-2561-48f1-ff44-dd63063e1d63",
        "colab": {
          "base_uri": "https://localhost:8080/",
          "height": 221
        }
      },
      "source": [
        "!sed 's/n/N/g' data.csv | sed 's/N/\\\\N/g' | sed 's/\\\\\\\\/\\\\/g' > data1.csv\n",
        "!cat data1.csv"
      ],
      "execution_count": 2,
      "outputs": [
        {
          "output_type": "stream",
          "text": [
            "12/03/13;A;1;100,0\n",
            "05/12/13;a;1;100,0\n",
            "25/02/13;B;2;200,0\n",
            "04/04/13;\\N;1;\\N\n",
            "21/06/13;\\N;;\n",
            "13/06/14;A;;\\N\n",
            "12/05/14;C;\\N;\n",
            "05/09/14;\\N;3;150,1\n",
            "12/05/14;a;2;\\N\n",
            "28/02/13;c;\\N;\\N\n",
            "02/08/14;A;2;100,0\n",
            "1/9/2014;A;3;100,4\n"
          ],
          "name": "stdout"
        }
      ]
    },
    {
      "cell_type": "code",
      "metadata": {
        "id": "VtkyS6aHu3v1",
        "colab_type": "code",
        "outputId": "bc3f17bd-046d-4df5-842b-f815712f511c",
        "colab": {
          "base_uri": "https://localhost:8080/",
          "height": 221
        }
      },
      "source": [
        "!sed 's/;;/;\\\\N;/' data1.csv > data2.csv\n",
        "!cat data2.csv"
      ],
      "execution_count": 3,
      "outputs": [
        {
          "output_type": "stream",
          "text": [
            "12/03/13;A;1;100,0\n",
            "05/12/13;a;1;100,0\n",
            "25/02/13;B;2;200,0\n",
            "04/04/13;\\N;1;\\N\n",
            "21/06/13;\\N;\\N;\n",
            "13/06/14;A;\\N;\\N\n",
            "12/05/14;C;\\N;\n",
            "05/09/14;\\N;3;150,1\n",
            "12/05/14;a;2;\\N\n",
            "28/02/13;c;\\N;\\N\n",
            "02/08/14;A;2;100,0\n",
            "1/9/2014;A;3;100,4\n"
          ],
          "name": "stdout"
        }
      ]
    },
    {
      "cell_type": "code",
      "metadata": {
        "id": "L_4Po6Hqv0y2",
        "colab_type": "code",
        "outputId": "0b6b5732-5303-46c5-ed85-a3bf494dad47",
        "colab": {
          "base_uri": "https://localhost:8080/",
          "height": 221
        }
      },
      "source": [
        "!sed 's/[a-z]/\\U&/g' data2.csv > data3.csv\n",
        "!cat data3.csv"
      ],
      "execution_count": 4,
      "outputs": [
        {
          "output_type": "stream",
          "text": [
            "12/03/13;A;1;100,0\n",
            "05/12/13;A;1;100,0\n",
            "25/02/13;B;2;200,0\n",
            "04/04/13;\\N;1;\\N\n",
            "21/06/13;\\N;\\N;\n",
            "13/06/14;A;\\N;\\N\n",
            "12/05/14;C;\\N;\n",
            "05/09/14;\\N;3;150,1\n",
            "12/05/14;A;2;\\N\n",
            "28/02/13;C;\\N;\\N\n",
            "02/08/14;A;2;100,0\n",
            "1/9/2014;A;3;100,4\n"
          ],
          "name": "stdout"
        }
      ]
    },
    {
      "cell_type": "code",
      "metadata": {
        "id": "-thIW9DJx-o_",
        "colab_type": "code",
        "outputId": "1ae5d608-54a7-4b74-842b-eaa49b1dde3e",
        "colab": {
          "base_uri": "https://localhost:8080/",
          "height": 221
        }
      },
      "source": [
        "!sed 's/;$/\\\\N/' data3.csv > data4.csv\n",
        "!cat data4.csv"
      ],
      "execution_count": 6,
      "outputs": [
        {
          "output_type": "stream",
          "text": [
            "12/03/13;A;1;100,0\n",
            "05/12/13;A;1;100,0\n",
            "25/02/13;B;2;200,0\n",
            "04/04/13;\\N;1;\\N\n",
            "21/06/13;\\N;\\N\\N\n",
            "13/06/14;A;\\N;\\N\n",
            "12/05/14;C;\\N\\N\n",
            "05/09/14;\\N;3;150,1\n",
            "12/05/14;A;2;\\N\n",
            "28/02/13;C;\\N;\\N\n",
            "02/08/14;A;2;100,0\n",
            "1/9/2014;A;3;100,4\n"
          ],
          "name": "stdout"
        }
      ]
    },
    {
      "cell_type": "code",
      "metadata": {
        "id": "KpB48pZCzBfY",
        "colab_type": "code",
        "colab": {
          "base_uri": "https://localhost:8080/",
          "height": 221
        },
        "outputId": "3b4a5e57-8f5d-440f-a539-acb42548ce34"
      },
      "source": [
        "!sed 's/\\\\N\\\\N/\\\\N/' data4.csv > data5.csv\n",
        "!cat data5.csv"
      ],
      "execution_count": 7,
      "outputs": [
        {
          "output_type": "stream",
          "text": [
            "12/03/13;A;1;100,0\n",
            "05/12/13;A;1;100,0\n",
            "25/02/13;B;2;200,0\n",
            "04/04/13;\\N;1;\\N\n",
            "21/06/13;\\N;\\N\n",
            "13/06/14;A;\\N;\\N\n",
            "12/05/14;C;\\N\n",
            "05/09/14;\\N;3;150,1\n",
            "12/05/14;A;2;\\N\n",
            "28/02/13;C;\\N;\\N\n",
            "02/08/14;A;2;100,0\n",
            "1/9/2014;A;3;100,4\n"
          ],
          "name": "stdout"
        }
      ]
    },
    {
      "cell_type": "code",
      "metadata": {
        "id": "VsZgqIEmbkkU",
        "colab_type": "code",
        "colab": {
          "base_uri": "https://localhost:8080/",
          "height": 221
        },
        "outputId": "9dc547ea-3067-4eba-e1ad-21d4408dc514"
      },
      "source": [
        "!sed 's/\\/\\([0-9]\\)\\//\\/0\\1\\//' data5.csv > data6.csv\n",
        "!cat data6.csv"
      ],
      "execution_count": 11,
      "outputs": [
        {
          "output_type": "stream",
          "text": [
            "12/03/13;A;1;100,0\n",
            "05/12/13;A;1;100,0\n",
            "25/02/13;B;2;200,0\n",
            "04/04/13;\\N;1;\\N\n",
            "21/06/13;\\N;\\N\n",
            "13/06/14;A;\\N;\\N\n",
            "12/05/14;C;\\N\n",
            "05/09/14;\\N;3;150,1\n",
            "12/05/14;A;2;\\N\n",
            "28/02/13;C;\\N;\\N\n",
            "02/08/14;A;2;100,0\n",
            "1/09/2014;A;3;100,4\n"
          ],
          "name": "stdout"
        }
      ]
    },
    {
      "cell_type": "code",
      "metadata": {
        "id": "pN7tZ3RClW-5",
        "colab_type": "code",
        "colab": {
          "base_uri": "https://localhost:8080/",
          "height": 221
        },
        "outputId": "f7c373a9-8ffb-4c48-df5d-60c6736bf867"
      },
      "source": [
        "!sed 's/\\/\\([0-9][0-9]\\);/\\/20\\1;/' data6.csv > data7.csv\n",
        "!cat data7.csv"
      ],
      "execution_count": 12,
      "outputs": [
        {
          "output_type": "stream",
          "text": [
            "12/03/2013;A;1;100,0\n",
            "05/12/2013;A;1;100,0\n",
            "25/02/2013;B;2;200,0\n",
            "04/04/2013;\\N;1;\\N\n",
            "21/06/2013;\\N;\\N\n",
            "13/06/2014;A;\\N;\\N\n",
            "12/05/2014;C;\\N\n",
            "05/09/2014;\\N;3;150,1\n",
            "12/05/2014;A;2;\\N\n",
            "28/02/2013;C;\\N;\\N\n",
            "02/08/2014;A;2;100,0\n",
            "1/09/2014;A;3;100,4\n"
          ],
          "name": "stdout"
        }
      ]
    },
    {
      "cell_type": "code",
      "metadata": {
        "id": "ymnE0LJ6oAxz",
        "colab_type": "code",
        "colab": {}
      },
      "source": [
        ""
      ],
      "execution_count": 0,
      "outputs": []
    }
  ]
}