{
  "nbformat": 4,
  "nbformat_minor": 0,
  "metadata": {
    "colab": {
      "name": "tarea 1.ipynb",
      "provenance": [],
      "collapsed_sections": [],
      "include_colab_link": true
    },
    "kernelspec": {
      "name": "python3",
      "display_name": "Python 3"
    }
  },
  "cells": [
    {
      "cell_type": "markdown",
      "metadata": {
        "id": "view-in-github",
        "colab_type": "text"
      },
      "source": [
        "<a href=\"https://colab.research.google.com/github/alramirezve/ciencia_de_datos/blob/master/tarea_1.ipynb\" target=\"_parent\"><img src=\"https://colab.research.google.com/assets/colab-badge.svg\" alt=\"Open In Colab\"/></a>"
      ]
    },
    {
      "cell_type": "code",
      "metadata": {
        "id": "apdLpWI_okgR",
        "colab_type": "code",
        "outputId": "e003d5eb-7fba-41a3-c711-0e65aa0dce44",
        "colab": {
          "base_uri": "https://localhost:8080/",
          "height": 221
        }
      },
      "source": [
        "cat data.csv"
      ],
      "execution_count": 1,
      "outputs": [
        {
          "output_type": "stream",
          "text": [
            "12/03/13;A;1;100,0\n",
            "05/12/13;a;1;100,0\n",
            "25/02/13;B;2;200,0\n",
            "04/04/13;N;1;\\N\n",
            "21/06/13;\\N;;\n",
            "13/06/14;A;;n\n",
            "12/05/14;C;\\N;\n",
            "05/09/14;\\n;3;150,1\n",
            "12/05/14;a;2;\\N\n",
            "28/02/13;c;\\N;\\N\n",
            "02/08/14;A;2;100,0\n",
            "1/9/2014;A;3;100,4\n"
          ],
          "name": "stdout"
        }
      ]
    },
    {
      "cell_type": "code",
      "metadata": {
        "id": "vpk_ura9rLFx",
        "colab_type": "code",
        "outputId": "8a62e00e-2b26-4932-a753-f286ebee1a6a",
        "colab": {
          "base_uri": "https://localhost:8080/",
          "height": 221
        }
      },
      "source": [
        "!sed 's/n/N/g' data.csv | sed 's/N/\\\\N/g' | sed 's/\\\\\\\\/\\\\/g' > data1.csv\n",
        "!cat data1.csv"
      ],
      "execution_count": 2,
      "outputs": [
        {
          "output_type": "stream",
          "text": [
            "12/03/13;A;1;100,0\n",
            "05/12/13;a;1;100,0\n",
            "25/02/13;B;2;200,0\n",
            "04/04/13;\\N;1;\\N\n",
            "21/06/13;\\N;;\n",
            "13/06/14;A;;\\N\n",
            "12/05/14;C;\\N;\n",
            "05/09/14;\\N;3;150,1\n",
            "12/05/14;a;2;\\N\n",
            "28/02/13;c;\\N;\\N\n",
            "02/08/14;A;2;100,0\n",
            "1/9/2014;A;3;100,4\n"
          ],
          "name": "stdout"
        }
      ]
    },
    {
      "cell_type": "code",
      "metadata": {
        "id": "VtkyS6aHu3v1",
        "colab_type": "code",
        "outputId": "3f811364-e366-45b7-ae5f-2f974335c8ee",
        "colab": {
          "base_uri": "https://localhost:8080/",
          "height": 221
        }
      },
      "source": [
        "!sed 's/;;/;\\\\N;/' data1.csv > data2.csv\n",
        "!cat data2.csv"
      ],
      "execution_count": 3,
      "outputs": [
        {
          "output_type": "stream",
          "text": [
            "12/03/13;A;1;100,0\n",
            "05/12/13;a;1;100,0\n",
            "25/02/13;B;2;200,0\n",
            "04/04/13;\\N;1;\\N\n",
            "21/06/13;\\N;\\N;\n",
            "13/06/14;A;\\N;\\N\n",
            "12/05/14;C;\\N;\n",
            "05/09/14;\\N;3;150,1\n",
            "12/05/14;a;2;\\N\n",
            "28/02/13;c;\\N;\\N\n",
            "02/08/14;A;2;100,0\n",
            "1/9/2014;A;3;100,4\n"
          ],
          "name": "stdout"
        }
      ]
    },
    {
      "cell_type": "code",
      "metadata": {
        "id": "L_4Po6Hqv0y2",
        "colab_type": "code",
        "outputId": "963d9852-a9fc-4151-da78-70c2ea3aaad1",
        "colab": {
          "base_uri": "https://localhost:8080/",
          "height": 221
        }
      },
      "source": [
        "!sed 's/[a-z]/\\U&/g' data2.csv > data3.csv\n",
        "!cat data3.csv"
      ],
      "execution_count": 4,
      "outputs": [
        {
          "output_type": "stream",
          "text": [
            "12/03/13;A;1;100,0\n",
            "05/12/13;A;1;100,0\n",
            "25/02/13;B;2;200,0\n",
            "04/04/13;\\N;1;\\N\n",
            "21/06/13;\\N;\\N;\n",
            "13/06/14;A;\\N;\\N\n",
            "12/05/14;C;\\N;\n",
            "05/09/14;\\N;3;150,1\n",
            "12/05/14;A;2;\\N\n",
            "28/02/13;C;\\N;\\N\n",
            "02/08/14;A;2;100,0\n",
            "1/9/2014;A;3;100,4\n"
          ],
          "name": "stdout"
        }
      ]
    },
    {
      "cell_type": "code",
      "metadata": {
        "id": "-thIW9DJx-o_",
        "colab_type": "code",
        "outputId": "c0e33ee1-856d-4b31-9f9c-8c7e33695c01",
        "colab": {
          "base_uri": "https://localhost:8080/",
          "height": 221
        }
      },
      "source": [
        "!sed 's/;$/\\\\N/' data3.csv > data4.csv\n",
        "!cat data4.csv"
      ],
      "execution_count": 5,
      "outputs": [
        {
          "output_type": "stream",
          "text": [
            "12/03/13;A;1;100,0\n",
            "05/12/13;A;1;100,0\n",
            "25/02/13;B;2;200,0\n",
            "04/04/13;\\N;1;\\N\n",
            "21/06/13;\\N;\\N\\N\n",
            "13/06/14;A;\\N;\\N\n",
            "12/05/14;C;\\N\\N\n",
            "05/09/14;\\N;3;150,1\n",
            "12/05/14;A;2;\\N\n",
            "28/02/13;C;\\N;\\N\n",
            "02/08/14;A;2;100,0\n",
            "1/9/2014;A;3;100,4\n"
          ],
          "name": "stdout"
        }
      ]
    },
    {
      "cell_type": "code",
      "metadata": {
        "id": "KpB48pZCzBfY",
        "colab_type": "code",
        "outputId": "fe23a580-444b-4d0e-e152-9ea7c3adc235",
        "colab": {
          "base_uri": "https://localhost:8080/",
          "height": 221
        }
      },
      "source": [
        "!sed 's/\\\\N\\\\N/\\\\N/' data4.csv > data5.csv\n",
        "!cat data5.csv"
      ],
      "execution_count": 6,
      "outputs": [
        {
          "output_type": "stream",
          "text": [
            "12/03/13;A;1;100,0\n",
            "05/12/13;A;1;100,0\n",
            "25/02/13;B;2;200,0\n",
            "04/04/13;\\N;1;\\N\n",
            "21/06/13;\\N;\\N\n",
            "13/06/14;A;\\N;\\N\n",
            "12/05/14;C;\\N\n",
            "05/09/14;\\N;3;150,1\n",
            "12/05/14;A;2;\\N\n",
            "28/02/13;C;\\N;\\N\n",
            "02/08/14;A;2;100,0\n",
            "1/9/2014;A;3;100,4\n"
          ],
          "name": "stdout"
        }
      ]
    },
    {
      "cell_type": "code",
      "metadata": {
        "id": "VsZgqIEmbkkU",
        "colab_type": "code",
        "outputId": "45fd327b-43a2-4707-f740-bd75fdd022a1",
        "colab": {
          "base_uri": "https://localhost:8080/",
          "height": 221
        }
      },
      "source": [
        "!sed 's/\\/\\([0-9]\\)\\//\\/0\\1\\//' data5.csv > data6.csv\n",
        "!cat data6.csv"
      ],
      "execution_count": 7,
      "outputs": [
        {
          "output_type": "stream",
          "text": [
            "12/03/13;A;1;100,0\n",
            "05/12/13;A;1;100,0\n",
            "25/02/13;B;2;200,0\n",
            "04/04/13;\\N;1;\\N\n",
            "21/06/13;\\N;\\N\n",
            "13/06/14;A;\\N;\\N\n",
            "12/05/14;C;\\N\n",
            "05/09/14;\\N;3;150,1\n",
            "12/05/14;A;2;\\N\n",
            "28/02/13;C;\\N;\\N\n",
            "02/08/14;A;2;100,0\n",
            "1/09/2014;A;3;100,4\n"
          ],
          "name": "stdout"
        }
      ]
    },
    {
      "cell_type": "code",
      "metadata": {
        "id": "pN7tZ3RClW-5",
        "colab_type": "code",
        "outputId": "f5edad26-e082-4c71-daa4-a90a06fc984e",
        "colab": {
          "base_uri": "https://localhost:8080/",
          "height": 221
        }
      },
      "source": [
        "!sed 's/\\/\\([0-9][0-9]\\);/\\/20\\1;/' data6.csv > data7.csv\n",
        "!cat data7.csv"
      ],
      "execution_count": 8,
      "outputs": [
        {
          "output_type": "stream",
          "text": [
            "12/03/2013;A;1;100,0\n",
            "05/12/2013;A;1;100,0\n",
            "25/02/2013;B;2;200,0\n",
            "04/04/2013;\\N;1;\\N\n",
            "21/06/2013;\\N;\\N\n",
            "13/06/2014;A;\\N;\\N\n",
            "12/05/2014;C;\\N\n",
            "05/09/2014;\\N;3;150,1\n",
            "12/05/2014;A;2;\\N\n",
            "28/02/2013;C;\\N;\\N\n",
            "02/08/2014;A;2;100,0\n",
            "1/09/2014;A;3;100,4\n"
          ],
          "name": "stdout"
        }
      ]
    },
    {
      "cell_type": "code",
      "metadata": {
        "id": "ymnE0LJ6oAxz",
        "colab_type": "code",
        "outputId": "848a7acd-a822-43f5-8628-5e9735421d29",
        "colab": {
          "base_uri": "https://localhost:8080/",
          "height": 221
        }
      },
      "source": [
        "!sed 's/^\\([0-9]\\/\\)/0\\1/' data7.csv > data8.csv\n",
        "!cat data8.csv"
      ],
      "execution_count": 9,
      "outputs": [
        {
          "output_type": "stream",
          "text": [
            "12/03/2013;A;1;100,0\n",
            "05/12/2013;A;1;100,0\n",
            "25/02/2013;B;2;200,0\n",
            "04/04/2013;\\N;1;\\N\n",
            "21/06/2013;\\N;\\N\n",
            "13/06/2014;A;\\N;\\N\n",
            "12/05/2014;C;\\N\n",
            "05/09/2014;\\N;3;150,1\n",
            "12/05/2014;A;2;\\N\n",
            "28/02/2013;C;\\N;\\N\n",
            "02/08/2014;A;2;100,0\n",
            "01/09/2014;A;3;100,4\n"
          ],
          "name": "stdout"
        }
      ]
    },
    {
      "cell_type": "code",
      "metadata": {
        "id": "Fz_MHxE3tPSO",
        "colab_type": "code",
        "outputId": "e32dc5e8-c440-4399-a18e-2a5d17742e32",
        "colab": {
          "base_uri": "https://localhost:8080/",
          "height": 221
        }
      },
      "source": [
        "!sed 's/^\\([0-9][0-9]\\)\\/\\([0-9][0-9]\\)\\/\\([0-9][0-9][0-9][0-9]\\)/\\3-\\2-\\1/' data8.csv > data9.csv\n",
        "!cat data9.csv"
      ],
      "execution_count": 10,
      "outputs": [
        {
          "output_type": "stream",
          "text": [
            "2013-03-12;A;1;100,0\n",
            "2013-12-05;A;1;100,0\n",
            "2013-02-25;B;2;200,0\n",
            "2013-04-04;\\N;1;\\N\n",
            "2013-06-21;\\N;\\N\n",
            "2014-06-13;A;\\N;\\N\n",
            "2014-05-12;C;\\N\n",
            "2014-09-05;\\N;3;150,1\n",
            "2014-05-12;A;2;\\N\n",
            "2013-02-28;C;\\N;\\N\n",
            "2014-08-02;A;2;100,0\n",
            "2014-09-01;A;3;100,4\n"
          ],
          "name": "stdout"
        }
      ]
    },
    {
      "cell_type": "code",
      "metadata": {
        "id": "4TcpTV7gzFv9",
        "colab_type": "code",
        "outputId": "d474c93d-c649-49a6-f791-44c82eb087bf",
        "colab": {
          "base_uri": "https://localhost:8080/",
          "height": 221
        }
      },
      "source": [
        "!sed 's/$/;\\\\N/' data9.csv > data10.csv\n",
        "!cat data10.csv"
      ],
      "execution_count": 11,
      "outputs": [
        {
          "output_type": "stream",
          "text": [
            "2013-03-12;A;1;100,0;\\N\n",
            "2013-12-05;A;1;100,0;\\N\n",
            "2013-02-25;B;2;200,0;\\N\n",
            "2013-04-04;\\N;1;\\N;\\N\n",
            "2013-06-21;\\N;\\N;\\N\n",
            "2014-06-13;A;\\N;\\N;\\N\n",
            "2014-05-12;C;\\N;\\N\n",
            "2014-09-05;\\N;3;150,1;\\N\n",
            "2014-05-12;A;2;\\N;\\N\n",
            "2013-02-28;C;\\N;\\N;\\N\n",
            "2014-08-02;A;2;100,0;\\N\n",
            "2014-09-01;A;3;100,4;\\N\n"
          ],
          "name": "stdout"
        }
      ]
    },
    {
      "cell_type": "code",
      "metadata": {
        "id": "zsGYx_W_1W7-",
        "colab_type": "code",
        "outputId": "39db8cf0-dc43-4d62-f3f0-455b8831ae02",
        "colab": {
          "base_uri": "https://localhost:8080/",
          "height": 221
        }
      },
      "source": [
        "!sed 's/,/./;s/;/,/g' data10.csv > data11.csv\n",
        "!cat data11.csv"
      ],
      "execution_count": 12,
      "outputs": [
        {
          "output_type": "stream",
          "text": [
            "2013-03-12,A,1,100.0,\\N\n",
            "2013-12-05,A,1,100.0,\\N\n",
            "2013-02-25,B,2,200.0,\\N\n",
            "2013-04-04,\\N,1,\\N,\\N\n",
            "2013-06-21,\\N,\\N,\\N\n",
            "2014-06-13,A,\\N,\\N,\\N\n",
            "2014-05-12,C,\\N,\\N\n",
            "2014-09-05,\\N,3,150.1,\\N\n",
            "2014-05-12,A,2,\\N,\\N\n",
            "2013-02-28,C,\\N,\\N,\\N\n",
            "2014-08-02,A,2,100.0,\\N\n",
            "2014-09-01,A,3,100.4,\\N\n"
          ],
          "name": "stdout"
        }
      ]
    },
    {
      "cell_type": "code",
      "metadata": {
        "id": "SOZpu367jD8R",
        "colab_type": "code",
        "colab": {
          "base_uri": "https://localhost:8080/",
          "height": 221
        },
        "outputId": "0dcd9b22-6232-41a2-d593-50cbfb36d23e"
      },
      "source": [
        "#Trampa usando CUT\n",
        "!cut -d, -f1,2,3,4 data11.csv > data12.csv\n",
        "!cat data12.csv"
      ],
      "execution_count": 14,
      "outputs": [
        {
          "output_type": "stream",
          "text": [
            "2013-03-12,A,1,100.0\n",
            "2013-12-05,A,1,100.0\n",
            "2013-02-25,B,2,200.0\n",
            "2013-04-04,\\N,1,\\N\n",
            "2013-06-21,\\N,\\N,\\N\n",
            "2014-06-13,A,\\N,\\N\n",
            "2014-05-12,C,\\N,\\N\n",
            "2014-09-05,\\N,3,150.1\n",
            "2014-05-12,A,2,\\N\n",
            "2013-02-28,C,\\N,\\N\n",
            "2014-08-02,A,2,100.0\n",
            "2014-09-01,A,3,100.4\n"
          ],
          "name": "stdout"
        }
      ]
    },
    {
      "cell_type": "code",
      "metadata": {
        "id": "_3Bh6jAtmWkT",
        "colab_type": "code",
        "colab": {
          "base_uri": "https://localhost:8080/",
          "height": 221
        },
        "outputId": "72b4158e-d020-4ebc-b739-f1d3ba4b6223"
      },
      "source": [
        "#Legal\n",
        "!sed 's/\\([^,]*,[^,]*,[^,]*,[^,]*\\).*/\\1/' data11.csv > data12.csv\n",
        "!cat data12.csv"
      ],
      "execution_count": 18,
      "outputs": [
        {
          "output_type": "stream",
          "text": [
            "2013-03-12,A,1,100.0\n",
            "2013-12-05,A,1,100.0\n",
            "2013-02-25,B,2,200.0\n",
            "2013-04-04,\\N,1,\\N\n",
            "2013-06-21,\\N,\\N,\\N\n",
            "2014-06-13,A,\\N,\\N\n",
            "2014-05-12,C,\\N,\\N\n",
            "2014-09-05,\\N,3,150.1\n",
            "2014-05-12,A,2,\\N\n",
            "2013-02-28,C,\\N,\\N\n",
            "2014-08-02,A,2,100.0\n",
            "2014-09-01,A,3,100.4\n"
          ],
          "name": "stdout"
        }
      ]
    },
    {
      "cell_type": "code",
      "metadata": {
        "id": "P9mJSVT185zF",
        "colab_type": "code",
        "colab": {}
      },
      "source": [
        ""
      ],
      "execution_count": 0,
      "outputs": []
    }
  ]
}