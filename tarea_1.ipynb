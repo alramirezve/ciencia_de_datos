{
  "nbformat": 4,
  "nbformat_minor": 0,
  "metadata": {
    "colab": {
      "name": "tarea 1.ipynb",
      "provenance": [],
      "collapsed_sections": [],
      "include_colab_link": true
    },
    "kernelspec": {
      "name": "python3",
      "display_name": "Python 3"
    }
  },
  "cells": [
    {
      "cell_type": "markdown",
      "metadata": {
        "id": "view-in-github",
        "colab_type": "text"
      },
      "source": [
        "<a href=\"https://colab.research.google.com/github/alramirezve/ciencia_de_datos/blob/master/tarea_1.ipynb\" target=\"_parent\"><img src=\"https://colab.research.google.com/assets/colab-badge.svg\" alt=\"Open In Colab\"/></a>"
      ]
    },
    {
      "cell_type": "code",
      "metadata": {
        "id": "apdLpWI_okgR",
        "colab_type": "code",
        "colab": {
          "base_uri": "https://localhost:8080/",
          "height": 221
        },
        "outputId": "300c4016-8c65-4e49-a627-9cc5c7146e30"
      },
      "source": [
        "cat data.csv"
      ],
      "execution_count": 1,
      "outputs": [
        {
          "output_type": "stream",
          "text": [
            "12/03/13;A;1;100,0\n",
            "05/12/13;a;1;100,0\n",
            "25/02/13;B;2;200,0\n",
            "04/04/13;N;1;\\N\n",
            "21/06/13;\\N;;\n",
            "13/06/14;A;;n\n",
            "12/05/14;C;\\N;\n",
            "05/09/14;\\n;3;150,1\n",
            "12/05/14;a;2;\\N\n",
            "28/02/13;c;\\N;\\N\n",
            "02/08/14;A;2;100,0\n",
            "1/9/2014;A;3;100,4\n"
          ],
          "name": "stdout"
        }
      ]
    },
    {
      "cell_type": "code",
      "metadata": {
        "id": "vpk_ura9rLFx",
        "colab_type": "code",
        "colab": {
          "base_uri": "https://localhost:8080/",
          "height": 221
        },
        "outputId": "27ce4305-b784-4dfa-b497-a116e968f0c7"
      },
      "source": [
        "!sed 's/n/N/g' data.csv | sed 's/N/\\\\N/g' | sed 's/\\\\\\\\/\\\\/g' > data1.csv\n",
        "!cat data1.csv"
      ],
      "execution_count": 19,
      "outputs": [
        {
          "output_type": "stream",
          "text": [
            "12/03/13;A;1;100,0\n",
            "05/12/13;a;1;100,0\n",
            "25/02/13;B;2;200,0\n",
            "04/04/13;\\N;1;\\N\n",
            "21/06/13;\\N;;\n",
            "13/06/14;A;;\\N\n",
            "12/05/14;C;\\N;\n",
            "05/09/14;\\N;3;150,1\n",
            "12/05/14;a;2;\\N\n",
            "28/02/13;c;\\N;\\N\n",
            "02/08/14;A;2;100,0\n",
            "1/9/2014;A;3;100,4\n"
          ],
          "name": "stdout"
        }
      ]
    },
    {
      "cell_type": "code",
      "metadata": {
        "id": "VtkyS6aHu3v1",
        "colab_type": "code",
        "colab": {
          "base_uri": "https://localhost:8080/",
          "height": 221
        },
        "outputId": "c034b417-9f84-4715-8982-ca09cea90a74"
      },
      "source": [
        "!sed 's/;;/;\\\\N;/' data1.csv > data2.csv\n",
        "!cat data2.csv"
      ],
      "execution_count": 20,
      "outputs": [
        {
          "output_type": "stream",
          "text": [
            "12/03/13;A;1;100,0\n",
            "05/12/13;a;1;100,0\n",
            "25/02/13;B;2;200,0\n",
            "04/04/13;\\N;1;\\N\n",
            "21/06/13;\\N;\\N;\n",
            "13/06/14;A;\\N;\\N\n",
            "12/05/14;C;\\N;\n",
            "05/09/14;\\N;3;150,1\n",
            "12/05/14;a;2;\\N\n",
            "28/02/13;c;\\N;\\N\n",
            "02/08/14;A;2;100,0\n",
            "1/9/2014;A;3;100,4\n"
          ],
          "name": "stdout"
        }
      ]
    },
    {
      "cell_type": "code",
      "metadata": {
        "id": "L_4Po6Hqv0y2",
        "colab_type": "code",
        "colab": {
          "base_uri": "https://localhost:8080/",
          "height": 221
        },
        "outputId": "215c8ced-efc5-4e44-a3ca-b4e841340c69"
      },
      "source": [
        "!sed 's/[a-z]/\\U&/g' data2.csv > data3.csv\n",
        "!cat data3.csv"
      ],
      "execution_count": 22,
      "outputs": [
        {
          "output_type": "stream",
          "text": [
            "12/03/13;A;1;100,0\n",
            "05/12/13;A;1;100,0\n",
            "25/02/13;B;2;200,0\n",
            "04/04/13;\\N;1;\\N\n",
            "21/06/13;\\N;\\N;\n",
            "13/06/14;A;\\N;\\N\n",
            "12/05/14;C;\\N;\n",
            "05/09/14;\\N;3;150,1\n",
            "12/05/14;A;2;\\N\n",
            "28/02/13;C;\\N;\\N\n",
            "02/08/14;A;2;100,0\n",
            "1/9/2014;A;3;100,4\n"
          ],
          "name": "stdout"
        }
      ]
    },
    {
      "cell_type": "code",
      "metadata": {
        "id": "-thIW9DJx-o_",
        "colab_type": "code",
        "colab": {
          "base_uri": "https://localhost:8080/",
          "height": 221
        },
        "outputId": "90975528-b4ae-4e79-8fde-ec7061c0b1ca"
      },
      "source": [
        "!sed 's/;$/\\\\N/g' data3.csv > data4.csv\n",
        "!cat data4.csv"
      ],
      "execution_count": 23,
      "outputs": [
        {
          "output_type": "stream",
          "text": [
            "12/03/13;A;1;100,0\n",
            "05/12/13;A;1;100,0\n",
            "25/02/13;B;2;200,0\n",
            "04/04/13;\\N;1;\\N\n",
            "21/06/13;\\N;\\N\\N\n",
            "13/06/14;A;\\N;\\N\n",
            "12/05/14;C;\\N\\N\n",
            "05/09/14;\\N;3;150,1\n",
            "12/05/14;A;2;\\N\n",
            "28/02/13;C;\\N;\\N\n",
            "02/08/14;A;2;100,0\n",
            "1/9/2014;A;3;100,4\n"
          ],
          "name": "stdout"
        }
      ]
    },
    {
      "cell_type": "code",
      "metadata": {
        "id": "KpB48pZCzBfY",
        "colab_type": "code",
        "colab": {}
      },
      "source": [
        ""
      ],
      "execution_count": 0,
      "outputs": []
    }
  ]
}