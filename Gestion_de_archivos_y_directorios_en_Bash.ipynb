{
  "nbformat": 4,
  "nbformat_minor": 0,
  "metadata": {
    "colab": {
      "name": "Gestion de archivos y directorios en Bash",
      "provenance": [],
      "collapsed_sections": [],
      "include_colab_link": true
    },
    "kernelspec": {
      "name": "python3",
      "display_name": "Python 3"
    }
  },
  "cells": [
    {
      "cell_type": "markdown",
      "metadata": {
        "id": "view-in-github",
        "colab_type": "text"
      },
      "source": [
        "<a href=\"https://colab.research.google.com/github/alramirezve/ciencia_de_datos/blob/master/Gestion_de_archivos_y_directorios_en_Bash.ipynb\" target=\"_parent\"><img src=\"https://colab.research.google.com/assets/colab-badge.svg\" alt=\"Open In Colab\"/></a>"
      ]
    },
    {
      "cell_type": "code",
      "metadata": {
        "id": "xvX8gFx65XSy",
        "colab_type": "code",
        "colab": {}
      },
      "source": [
        "!apt-get install tree"
      ],
      "execution_count": 0,
      "outputs": []
    },
    {
      "cell_type": "code",
      "metadata": {
        "id": "i7JTVVgX5gTT",
        "colab_type": "code",
        "colab": {}
      },
      "source": [
        "#Actividad 1\n",
        "!mkdir practica-bash-1"
      ],
      "execution_count": 0,
      "outputs": []
    },
    {
      "cell_type": "code",
      "metadata": {
        "id": "oVBWfiBZ5idW",
        "colab_type": "code",
        "colab": {}
      },
      "source": [
        "#Actividad 2\n",
        "!cd practica-bash-1/ && mkdir 1 && mkdir 2 && mkdir 3"
      ],
      "execution_count": 0,
      "outputs": []
    },
    {
      "cell_type": "code",
      "metadata": {
        "id": "QAM1rsDq5kru",
        "colab_type": "code",
        "colab": {}
      },
      "source": [
        "#Actividad 3\n",
        "!cd practica-bash-1/1 && mkdir 1-1 && mkdir 1-2 && mkdir 1-3"
      ],
      "execution_count": 0,
      "outputs": []
    },
    {
      "cell_type": "code",
      "metadata": {
        "id": "VZQM51N25nIG",
        "colab_type": "code",
        "colab": {}
      },
      "source": [
        "#Actividad 4\n",
        "!cd practica-bash-1/2 && mkdir 2-1 && mkdir 2-2 && mkdir 2-3"
      ],
      "execution_count": 0,
      "outputs": []
    },
    {
      "cell_type": "code",
      "metadata": {
        "id": "A4dHRtNy5qmT",
        "colab_type": "code",
        "colab": {}
      },
      "source": [
        "#Actividad 5\n",
        "!cd practica-bash-1/3 && mkdir 3-1 && mkdir 3-2 && mkdir 3-3"
      ],
      "execution_count": 0,
      "outputs": []
    },
    {
      "cell_type": "code",
      "metadata": {
        "id": "IqMPKywY5u21",
        "colab_type": "code",
        "colab": {}
      },
      "source": [
        "#Actividad 6\n",
        "!cd practica-bash-1 && tree"
      ],
      "execution_count": 0,
      "outputs": []
    },
    {
      "cell_type": "code",
      "metadata": {
        "id": "B_LkHhO_5xqp",
        "colab_type": "code",
        "colab": {}
      },
      "source": [
        "#Actividad 7\n",
        "!cd practica-bash-1/1/1-1 && touch _SUCCESS && touch part-0"
      ],
      "execution_count": 0,
      "outputs": []
    },
    {
      "cell_type": "code",
      "metadata": {
        "id": "1K9eLYqy50Oh",
        "colab_type": "code",
        "colab": {}
      },
      "source": [
        "#Actividad 8\n",
        "!cp practica-bash-1/1/1-1/part-0 practica-bash-1/1/1-1/part-1 && cp practica-bash-1/1/1-1/part-0 practica-bash-1/1/1-1/part-2"
      ],
      "execution_count": 0,
      "outputs": []
    },
    {
      "cell_type": "code",
      "metadata": {
        "id": "bOIGuiWY54N2",
        "colab_type": "code",
        "colab": {}
      },
      "source": [
        "#Actividad 9\n",
        "!mv practica-bash-1/1/1-1/part-0 practica-bash-1/1/1-1/part-00001 && mv practica-bash-1/1/1-1/part-1 practica-bash-1/1/1-1/part-00001 && mv practica-bash-1/1/1-1/part-2 practica-bash-1/1/1-1/part-00002"
      ],
      "execution_count": 0,
      "outputs": []
    },
    {
      "cell_type": "code",
      "metadata": {
        "id": "b_nJB4Jx598s",
        "colab_type": "code",
        "colab": {}
      },
      "source": [
        "#Actividad 10\n",
        "!cd practica-bash-1 && tree"
      ],
      "execution_count": 0,
      "outputs": []
    },
    {
      "cell_type": "code",
      "metadata": {
        "id": "7J58sdBx6A46",
        "colab_type": "code",
        "colab": {}
      },
      "source": [
        "#Actividad 11\n",
        "!mv practica-bash-1/1/1-1/* practica-bash-1/3/3-3"
      ],
      "execution_count": 0,
      "outputs": []
    },
    {
      "cell_type": "code",
      "metadata": {
        "id": "1H3sZyfc6D9p",
        "colab_type": "code",
        "colab": {}
      },
      "source": [
        "#Actividad 12\n",
        "!rm -rf practica-bash-1 "
      ],
      "execution_count": 0,
      "outputs": []
    }
  ]
}